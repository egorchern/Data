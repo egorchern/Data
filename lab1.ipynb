{
 "cells": [
  {
   "cell_type": "markdown",
   "metadata": {},
   "source": [
    "<h1>Lab 1</h1>"
   ]
  },
  {
   "cell_type": "markdown",
   "metadata": {},
   "source": [
    "<h2>Introduction to Jupyter Notebooks</h2>"
   ]
  },
  {
   "cell_type": "markdown",
   "metadata": {},
   "source": [
    "<h3>First 10 fibonacci numbers</h3>"
   ]
  },
  {
   "cell_type": "code",
   "execution_count": 41,
   "metadata": {},
   "outputs": [
    {
     "name": "stdout",
     "output_type": "stream",
     "text": [
      "[1, 1, 2, 3, 5, 8, 13, 21, 34, 55]\n"
     ]
    }
   ],
   "source": [
    "def firstNFib(n):\n",
    "    dp = [1 for i in range(n)]\n",
    "    for i in range(2, n):\n",
    "        dp[i] = dp[i - 1] + dp[i - 2]\n",
    "    return dp\n",
    "\n",
    "firstTenFib = firstNFib(10)\n",
    "print(firstTenFib)"
   ]
  },
  {
   "cell_type": "markdown",
   "metadata": {},
   "source": [
    "<h2>Intro to pandas dataframes</h2>"
   ]
  },
  {
   "cell_type": "markdown",
   "metadata": {},
   "source": [
    "<h3>How to read .csv files and making dataframes from them</h3>"
   ]
  },
  {
   "cell_type": "markdown",
   "metadata": {},
   "source": [
    "<h4>Top 5 countries ranked by Gold medals won in Winter Olympics</h4>"
   ]
  },
  {
   "cell_type": "code",
   "execution_count": 42,
   "metadata": {},
   "outputs": [
    {
     "data": {
      "text/html": [
       "<div>\n",
       "<style scoped>\n",
       "    .dataframe tbody tr th:only-of-type {\n",
       "        vertical-align: middle;\n",
       "    }\n",
       "\n",
       "    .dataframe tbody tr th {\n",
       "        vertical-align: top;\n",
       "    }\n",
       "\n",
       "    .dataframe thead th {\n",
       "        text-align: right;\n",
       "    }\n",
       "</style>\n",
       "<table border=\"1\" class=\"dataframe\">\n",
       "  <thead>\n",
       "    <tr style=\"text-align: right;\">\n",
       "      <th></th>\n",
       "      <th>№ Summer</th>\n",
       "      <th>GS</th>\n",
       "      <th>SS</th>\n",
       "      <th>BS</th>\n",
       "      <th>Total</th>\n",
       "      <th>№ Winter</th>\n",
       "      <th>GW</th>\n",
       "      <th>SW</th>\n",
       "      <th>BW</th>\n",
       "      <th>Total.1</th>\n",
       "      <th>№ Games</th>\n",
       "      <th>GT</th>\n",
       "      <th>ST</th>\n",
       "      <th>BT</th>\n",
       "      <th>Combined total</th>\n",
       "    </tr>\n",
       "  </thead>\n",
       "  <tbody>\n",
       "    <tr>\n",
       "      <th>Norway (NOR) [Q]</th>\n",
       "      <td>24</td>\n",
       "      <td>56</td>\n",
       "      <td>49</td>\n",
       "      <td>43</td>\n",
       "      <td>148</td>\n",
       "      <td>22</td>\n",
       "      <td>118</td>\n",
       "      <td>111</td>\n",
       "      <td>100</td>\n",
       "      <td>329</td>\n",
       "      <td>46</td>\n",
       "      <td>174</td>\n",
       "      <td>160</td>\n",
       "      <td>143</td>\n",
       "      <td>477</td>\n",
       "    </tr>\n",
       "    <tr>\n",
       "      <th>United States (USA) [P] [Q] [R] [Z]</th>\n",
       "      <td>26</td>\n",
       "      <td>976</td>\n",
       "      <td>757</td>\n",
       "      <td>666</td>\n",
       "      <td>2399</td>\n",
       "      <td>22</td>\n",
       "      <td>96</td>\n",
       "      <td>102</td>\n",
       "      <td>84</td>\n",
       "      <td>282</td>\n",
       "      <td>48</td>\n",
       "      <td>1072</td>\n",
       "      <td>859</td>\n",
       "      <td>750</td>\n",
       "      <td>2681</td>\n",
       "    </tr>\n",
       "    <tr>\n",
       "      <th>Soviet Union (URS) [URS]</th>\n",
       "      <td>9</td>\n",
       "      <td>395</td>\n",
       "      <td>319</td>\n",
       "      <td>296</td>\n",
       "      <td>1010</td>\n",
       "      <td>9</td>\n",
       "      <td>78</td>\n",
       "      <td>57</td>\n",
       "      <td>59</td>\n",
       "      <td>194</td>\n",
       "      <td>18</td>\n",
       "      <td>473</td>\n",
       "      <td>376</td>\n",
       "      <td>355</td>\n",
       "      <td>1204</td>\n",
       "    </tr>\n",
       "    <tr>\n",
       "      <th>Germany (GER) [GER] [Z]</th>\n",
       "      <td>15</td>\n",
       "      <td>174</td>\n",
       "      <td>182</td>\n",
       "      <td>217</td>\n",
       "      <td>573</td>\n",
       "      <td>11</td>\n",
       "      <td>78</td>\n",
       "      <td>78</td>\n",
       "      <td>53</td>\n",
       "      <td>209</td>\n",
       "      <td>26</td>\n",
       "      <td>252</td>\n",
       "      <td>260</td>\n",
       "      <td>270</td>\n",
       "      <td>782</td>\n",
       "    </tr>\n",
       "    <tr>\n",
       "      <th>Canada (CAN)</th>\n",
       "      <td>25</td>\n",
       "      <td>59</td>\n",
       "      <td>99</td>\n",
       "      <td>121</td>\n",
       "      <td>279</td>\n",
       "      <td>22</td>\n",
       "      <td>62</td>\n",
       "      <td>56</td>\n",
       "      <td>52</td>\n",
       "      <td>170</td>\n",
       "      <td>47</td>\n",
       "      <td>121</td>\n",
       "      <td>155</td>\n",
       "      <td>173</td>\n",
       "      <td>449</td>\n",
       "    </tr>\n",
       "  </tbody>\n",
       "</table>\n",
       "</div>"
      ],
      "text/plain": [
       "                                     № Summer   GS   SS   BS  Total  № Winter  \\\n",
       "Norway (NOR) [Q]                           24   56   49   43    148        22   \n",
       "United States (USA) [P] [Q] [R] [Z]        26  976  757  666   2399        22   \n",
       "Soviet Union (URS) [URS]                    9  395  319  296   1010         9   \n",
       "Germany (GER) [GER] [Z]                    15  174  182  217    573        11   \n",
       "Canada (CAN)                               25   59   99  121    279        22   \n",
       "\n",
       "                                      GW   SW   BW  Total.1  № Games    GT  \\\n",
       "Norway (NOR) [Q]                     118  111  100      329       46   174   \n",
       "United States (USA) [P] [Q] [R] [Z]   96  102   84      282       48  1072   \n",
       "Soviet Union (URS) [URS]              78   57   59      194       18   473   \n",
       "Germany (GER) [GER] [Z]               78   78   53      209       26   252   \n",
       "Canada (CAN)                          62   56   52      170       47   121   \n",
       "\n",
       "                                      ST   BT  Combined total  \n",
       "Norway (NOR) [Q]                     160  143             477  \n",
       "United States (USA) [P] [Q] [R] [Z]  859  750            2681  \n",
       "Soviet Union (URS) [URS]             376  355            1204  \n",
       "Germany (GER) [GER] [Z]              260  270             782  \n",
       "Canada (CAN)                         155  173             449  "
      ]
     },
     "execution_count": 42,
     "metadata": {},
     "output_type": "execute_result"
    }
   ],
   "source": [
    "import pandas as pd\n",
    "import numpy as np\n",
    "import re\n",
    "olympicsdf:pd.DataFrame = pd.read_csv(\"olympics.csv\", skiprows=1, index_col=0)\n",
    "olympicsdf.rename(columns = {\n",
    "    '01 !': 'GS',\n",
    "    \"02 !\": \"SS\",\n",
    "    \"03 !\": \"BS\",\n",
    "    \"01 !.1\": \"GW\",\n",
    "    \"02 !.1\": \"SW\",\n",
    "    \"03 !.1\": \"BW\",\n",
    "    \"01 !.2\": \"GT\",\n",
    "    \"02 !.2\": \"ST\",\n",
    "    \"03 !.2\": \"BT\"\n",
    "}, inplace=True)\n",
    "olympicsdf.sort_values(\"GW\", ascending=False).iloc[1:6]"
   ]
  },
  {
   "cell_type": "markdown",
   "metadata": {},
   "source": [
    "<h4>Where does Japan rank in Gold medals won in Winter Olympics?</h4>"
   ]
  },
  {
   "cell_type": "code",
   "execution_count": 43,
   "metadata": {},
   "outputs": [
    {
     "data": {
      "text/plain": [
       "19.5"
      ]
     },
     "execution_count": 43,
     "metadata": {},
     "output_type": "execute_result"
    }
   ],
   "source": [
    "olympicsdf[\"GW_rank\"] = olympicsdf[\"GW\"].rank(ascending=False)\n",
    "olympicsdf.loc[\"Japan (JPN)\"][\"GW_rank\"]"
   ]
  },
  {
   "cell_type": "markdown",
   "metadata": {},
   "source": [
    "<h4>Top 5 countries ranked by Weighted Total of medals won</h4>"
   ]
  },
  {
   "cell_type": "code",
   "execution_count": 44,
   "metadata": {},
   "outputs": [
    {
     "data": {
      "text/html": [
       "<div>\n",
       "<style scoped>\n",
       "    .dataframe tbody tr th:only-of-type {\n",
       "        vertical-align: middle;\n",
       "    }\n",
       "\n",
       "    .dataframe tbody tr th {\n",
       "        vertical-align: top;\n",
       "    }\n",
       "\n",
       "    .dataframe thead th {\n",
       "        text-align: right;\n",
       "    }\n",
       "</style>\n",
       "<table border=\"1\" class=\"dataframe\">\n",
       "  <thead>\n",
       "    <tr style=\"text-align: right;\">\n",
       "      <th></th>\n",
       "      <th>№ Summer</th>\n",
       "      <th>GS</th>\n",
       "      <th>SS</th>\n",
       "      <th>BS</th>\n",
       "      <th>Total</th>\n",
       "      <th>№ Winter</th>\n",
       "      <th>GW</th>\n",
       "      <th>SW</th>\n",
       "      <th>BW</th>\n",
       "      <th>Total.1</th>\n",
       "      <th>№ Games</th>\n",
       "      <th>GT</th>\n",
       "      <th>ST</th>\n",
       "      <th>BT</th>\n",
       "      <th>Combined total</th>\n",
       "      <th>GW_rank</th>\n",
       "      <th>WeightedTW</th>\n",
       "    </tr>\n",
       "  </thead>\n",
       "  <tbody>\n",
       "    <tr>\n",
       "      <th>United States (USA) [P] [Q] [R] [Z]</th>\n",
       "      <td>26</td>\n",
       "      <td>976</td>\n",
       "      <td>757</td>\n",
       "      <td>666</td>\n",
       "      <td>2399</td>\n",
       "      <td>22</td>\n",
       "      <td>96</td>\n",
       "      <td>102</td>\n",
       "      <td>84</td>\n",
       "      <td>282</td>\n",
       "      <td>48</td>\n",
       "      <td>1072</td>\n",
       "      <td>859</td>\n",
       "      <td>750</td>\n",
       "      <td>2681</td>\n",
       "      <td>3.0</td>\n",
       "      <td>5684</td>\n",
       "    </tr>\n",
       "    <tr>\n",
       "      <th>Soviet Union (URS) [URS]</th>\n",
       "      <td>9</td>\n",
       "      <td>395</td>\n",
       "      <td>319</td>\n",
       "      <td>296</td>\n",
       "      <td>1010</td>\n",
       "      <td>9</td>\n",
       "      <td>78</td>\n",
       "      <td>57</td>\n",
       "      <td>59</td>\n",
       "      <td>194</td>\n",
       "      <td>18</td>\n",
       "      <td>473</td>\n",
       "      <td>376</td>\n",
       "      <td>355</td>\n",
       "      <td>1204</td>\n",
       "      <td>4.5</td>\n",
       "      <td>2526</td>\n",
       "    </tr>\n",
       "    <tr>\n",
       "      <th>Great Britain (GBR) [GBR] [Z]</th>\n",
       "      <td>27</td>\n",
       "      <td>236</td>\n",
       "      <td>272</td>\n",
       "      <td>272</td>\n",
       "      <td>780</td>\n",
       "      <td>22</td>\n",
       "      <td>10</td>\n",
       "      <td>4</td>\n",
       "      <td>12</td>\n",
       "      <td>26</td>\n",
       "      <td>49</td>\n",
       "      <td>246</td>\n",
       "      <td>276</td>\n",
       "      <td>284</td>\n",
       "      <td>806</td>\n",
       "      <td>19.5</td>\n",
       "      <td>1574</td>\n",
       "    </tr>\n",
       "    <tr>\n",
       "      <th>Germany (GER) [GER] [Z]</th>\n",
       "      <td>15</td>\n",
       "      <td>174</td>\n",
       "      <td>182</td>\n",
       "      <td>217</td>\n",
       "      <td>573</td>\n",
       "      <td>11</td>\n",
       "      <td>78</td>\n",
       "      <td>78</td>\n",
       "      <td>53</td>\n",
       "      <td>209</td>\n",
       "      <td>26</td>\n",
       "      <td>252</td>\n",
       "      <td>260</td>\n",
       "      <td>270</td>\n",
       "      <td>782</td>\n",
       "      <td>4.5</td>\n",
       "      <td>1546</td>\n",
       "    </tr>\n",
       "    <tr>\n",
       "      <th>France (FRA) [O] [P] [Z]</th>\n",
       "      <td>27</td>\n",
       "      <td>202</td>\n",
       "      <td>223</td>\n",
       "      <td>246</td>\n",
       "      <td>671</td>\n",
       "      <td>22</td>\n",
       "      <td>31</td>\n",
       "      <td>31</td>\n",
       "      <td>47</td>\n",
       "      <td>109</td>\n",
       "      <td>49</td>\n",
       "      <td>233</td>\n",
       "      <td>254</td>\n",
       "      <td>293</td>\n",
       "      <td>780</td>\n",
       "      <td>15.0</td>\n",
       "      <td>1500</td>\n",
       "    </tr>\n",
       "  </tbody>\n",
       "</table>\n",
       "</div>"
      ],
      "text/plain": [
       "                                     № Summer   GS   SS   BS  Total  № Winter  \\\n",
       "United States (USA) [P] [Q] [R] [Z]        26  976  757  666   2399        22   \n",
       "Soviet Union (URS) [URS]                    9  395  319  296   1010         9   \n",
       "Great Britain (GBR) [GBR] [Z]              27  236  272  272    780        22   \n",
       "Germany (GER) [GER] [Z]                    15  174  182  217    573        11   \n",
       "France (FRA) [O] [P] [Z]                   27  202  223  246    671        22   \n",
       "\n",
       "                                     GW   SW  BW  Total.1  № Games    GT   ST  \\\n",
       "United States (USA) [P] [Q] [R] [Z]  96  102  84      282       48  1072  859   \n",
       "Soviet Union (URS) [URS]             78   57  59      194       18   473  376   \n",
       "Great Britain (GBR) [GBR] [Z]        10    4  12       26       49   246  276   \n",
       "Germany (GER) [GER] [Z]              78   78  53      209       26   252  260   \n",
       "France (FRA) [O] [P] [Z]             31   31  47      109       49   233  254   \n",
       "\n",
       "                                      BT  Combined total  GW_rank  WeightedTW  \n",
       "United States (USA) [P] [Q] [R] [Z]  750            2681      3.0        5684  \n",
       "Soviet Union (URS) [URS]             355            1204      4.5        2526  \n",
       "Great Britain (GBR) [GBR] [Z]        284             806     19.5        1574  \n",
       "Germany (GER) [GER] [Z]              270             782      4.5        1546  \n",
       "France (FRA) [O] [P] [Z]             293             780     15.0        1500  "
      ]
     },
     "execution_count": 44,
     "metadata": {},
     "output_type": "execute_result"
    }
   ],
   "source": [
    "olympicsdf[\"WeightedTW\"] = olympicsdf[\"GS\"] * 3 + olympicsdf[\"SS\"] * 2 + olympicsdf[\"BS\"] + olympicsdf[\"GW\"] * 3 + olympicsdf[\"SW\"] * 2 + olympicsdf[\"BW\"]\n",
    "olympicsdf.sort_values(\"WeightedTW\", ascending=False).iloc[1:6]"
   ]
  },
  {
   "cell_type": "markdown",
   "metadata": {},
   "source": [
    "<h4>Total number of events in Summer Olympics and in Winter Olympics?</h4>"
   ]
  },
  {
   "cell_type": "markdown",
   "metadata": {},
   "source": [
    "<h5>Average number of events in Summer Olympics</h5>"
   ]
  },
  {
   "cell_type": "code",
   "execution_count": 45,
   "metadata": {},
   "outputs": [
    {
     "name": "stdout",
     "output_type": "stream",
     "text": [
      "181.0\n"
     ]
    }
   ],
   "source": [
    "totalMedalsSummerOlymp = olympicsdf.loc[\"Totals\"][\"Total\"]\n",
    "totalSummerOlympics = olympicsdf.loc[\"Totals\"][\"№ Summer\"]\n",
    "totalEventsPerOlymp = totalMedalsSummerOlymp // 3 // totalSummerOlympics \n",
    "print(totalEventsPerOlymp)"
   ]
  },
  {
   "cell_type": "markdown",
   "metadata": {},
   "source": [
    "<h5>Average number of events in Winter olympics</h5>"
   ]
  },
  {
   "cell_type": "code",
   "execution_count": 46,
   "metadata": {},
   "outputs": [
    {
     "data": {
      "text/plain": [
       "43.0"
      ]
     },
     "execution_count": 46,
     "metadata": {},
     "output_type": "execute_result"
    }
   ],
   "source": [
    "olympicsdf.loc[\"Totals\"][\"Total.1\"] // 3 // olympicsdf.loc[\"Totals\"][\"№ Winter\"]"
   ]
  },
  {
   "cell_type": "markdown",
   "metadata": {},
   "source": [
    "<h4>Dataframe from python dictionary</h4>"
   ]
  },
  {
   "cell_type": "code",
   "execution_count": 47,
   "metadata": {},
   "outputs": [
    {
     "data": {
      "text/html": [
       "<div>\n",
       "<style scoped>\n",
       "    .dataframe tbody tr th:only-of-type {\n",
       "        vertical-align: middle;\n",
       "    }\n",
       "\n",
       "    .dataframe tbody tr th {\n",
       "        vertical-align: top;\n",
       "    }\n",
       "\n",
       "    .dataframe thead th {\n",
       "        text-align: right;\n",
       "    }\n",
       "</style>\n",
       "<table border=\"1\" class=\"dataframe\">\n",
       "  <thead>\n",
       "    <tr style=\"text-align: right;\">\n",
       "      <th></th>\n",
       "      <th>Evens</th>\n",
       "      <th>Odds</th>\n",
       "    </tr>\n",
       "  </thead>\n",
       "  <tbody>\n",
       "    <tr>\n",
       "      <th>0</th>\n",
       "      <td>2</td>\n",
       "      <td>1</td>\n",
       "    </tr>\n",
       "    <tr>\n",
       "      <th>1</th>\n",
       "      <td>4</td>\n",
       "      <td>3</td>\n",
       "    </tr>\n",
       "    <tr>\n",
       "      <th>2</th>\n",
       "      <td>6</td>\n",
       "      <td>5</td>\n",
       "    </tr>\n",
       "    <tr>\n",
       "      <th>3</th>\n",
       "      <td>8</td>\n",
       "      <td>7</td>\n",
       "    </tr>\n",
       "    <tr>\n",
       "      <th>4</th>\n",
       "      <td>10</td>\n",
       "      <td>9</td>\n",
       "    </tr>\n",
       "  </tbody>\n",
       "</table>\n",
       "</div>"
      ],
      "text/plain": [
       "   Evens  Odds\n",
       "0      2     1\n",
       "1      4     3\n",
       "2      6     5\n",
       "3      8     7\n",
       "4     10     9"
      ]
     },
     "execution_count": 47,
     "metadata": {},
     "output_type": "execute_result"
    }
   ],
   "source": [
    "numbers={'Evens':[2,4,6,8,10], 'Odds':[1,3,5,7,9]}\n",
    "df = pd.DataFrame.from_dict(numbers)\n",
    "df"
   ]
  },
  {
   "cell_type": "code",
   "execution_count": 48,
   "metadata": {},
   "outputs": [
    {
     "data": {
      "text/html": [
       "<div>\n",
       "<style scoped>\n",
       "    .dataframe tbody tr th:only-of-type {\n",
       "        vertical-align: middle;\n",
       "    }\n",
       "\n",
       "    .dataframe tbody tr th {\n",
       "        vertical-align: top;\n",
       "    }\n",
       "\n",
       "    .dataframe thead th {\n",
       "        text-align: right;\n",
       "    }\n",
       "</style>\n",
       "<table border=\"1\" class=\"dataframe\">\n",
       "  <thead>\n",
       "    <tr style=\"text-align: right;\">\n",
       "      <th></th>\n",
       "      <th>Evens</th>\n",
       "      <th>Odds</th>\n",
       "    </tr>\n",
       "  </thead>\n",
       "  <tbody>\n",
       "    <tr>\n",
       "      <th>0</th>\n",
       "      <td>2</td>\n",
       "      <td>1</td>\n",
       "    </tr>\n",
       "    <tr>\n",
       "      <th>1</th>\n",
       "      <td>4</td>\n",
       "      <td>3</td>\n",
       "    </tr>\n",
       "    <tr>\n",
       "      <th>2</th>\n",
       "      <td>6</td>\n",
       "      <td>5</td>\n",
       "    </tr>\n",
       "    <tr>\n",
       "      <th>3</th>\n",
       "      <td>8</td>\n",
       "      <td>7</td>\n",
       "    </tr>\n",
       "    <tr>\n",
       "      <th>4</th>\n",
       "      <td>10</td>\n",
       "      <td>9</td>\n",
       "    </tr>\n",
       "  </tbody>\n",
       "</table>\n",
       "</div>"
      ],
      "text/plain": [
       "   Evens  Odds\n",
       "0      2     1\n",
       "1      4     3\n",
       "2      6     5\n",
       "3      8     7\n",
       "4     10     9"
      ]
     },
     "execution_count": 48,
     "metadata": {},
     "output_type": "execute_result"
    }
   ],
   "source": [
    "df2=pd.DataFrame(numbers)\n",
    "df2"
   ]
  },
  {
   "cell_type": "code",
   "execution_count": 56,
   "metadata": {},
   "outputs": [
    {
     "data": {
      "text/plain": [
       "1989.6666666666667"
      ]
     },
     "execution_count": 56,
     "metadata": {},
     "output_type": "execute_result"
    }
   ],
   "source": [
    "vinyl = {\n",
    "    \"Album Name:\": [\"The Stone Roses\", \"Definitely Maybe\", \"The Queen is Dead\"],\n",
    "    \"Band Name\": [\"The Stone Roses\", \"Oasis\", \"The Smiths\"],\n",
    "    \"Year\": [1989, 1994, 1986]\n",
    "}\n",
    "df3 = pd.DataFrame(vinyl)\n",
    "df3[\"Year\"].mean()"
   ]
  }
 ],
 "metadata": {
  "interpreter": {
   "hash": "38740d3277777e2cd7c6c2cc9d8addf5118fdf3f82b1b39231fd12aeac8aee8b"
  },
  "kernelspec": {
   "display_name": "Python 3.9.0 64-bit",
   "language": "python",
   "name": "python3"
  },
  "language_info": {
   "codemirror_mode": {
    "name": "ipython",
    "version": 3
   },
   "file_extension": ".py",
   "mimetype": "text/x-python",
   "name": "python",
   "nbconvert_exporter": "python",
   "pygments_lexer": "ipython3",
   "version": "3.10.0"
  },
  "orig_nbformat": 4
 },
 "nbformat": 4,
 "nbformat_minor": 2
}
